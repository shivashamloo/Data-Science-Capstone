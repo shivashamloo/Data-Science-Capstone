{
    "cells": [
        {
            "cell_type": "markdown",
            "metadata": {
                "collapsed": true
            },
            "source": "<H1>Finding Most Convenient Neighbourhoods to Live in Montreal, Quebec, Canada.</H1>\n\n\n\n<H2>Introduction to the Problem</H2>\nSince many people immigrated to Canada in the last decades, and most of them have no relatives there, the main problem is finding a good neighborhood based on their needs. As one of the immigrants, I would compare different neighborhoods in Montreal, Quebec based on different parameters. Here is the list of parameters that are considered to suggest the best neighborhoods in Montreal:\n\n1. Transit Access\n2. Crime Rate\n3. Park Access\n4. Restaurants and bar Access\n\n\nHopefully, this study helps immigrants to find the most convenient neighborhood for them to live in Montreal."
        },
        {
            "cell_type": "markdown",
            "metadata": {},
            "source": "<H2>DATA</H2>\n\n\nIn this problem, I will use the Foursquare dataset to find restaurants, bars, and parks in each neighborhood in Montreal.\n\nI would also use the publicly available dataset on Montreal Transit Scheduling Data from here: https://data.Montreal.ca/Transportation-Transit/Montreal-Transit-Scheduling-Data/npk7-z3bj\n\nThis dataset contains five files, including trips.txt, shapes.txt, stop_times.txt, stops.txt, calendar.txt, routes.txt, calendar_dates.txt and agency.txt. In this project, probably I will use stops.txt as the main file to explore.\n\nAlso, I will use Community Crime and Disorder Statistics data which is also publicly available here: https://data.Montreal.ca/Health-and-Safety/Community-Crime-and-Disorder-Statistics/848s-4m4z\n\nThis dataset contains Sector, Community Name, Group Category, Category, Crime Count, Resident Count, Date, Year, Month ID, Community and Center Point. I will also use most of these columns to gather information about the rates in different neighborhoods."
        },
        {
            "cell_type": "code",
            "execution_count": null,
            "metadata": {},
            "outputs": [],
            "source": ""
        }
    ],
    "metadata": {
        "kernelspec": {
            "display_name": "Python 3.7",
            "language": "python",
            "name": "python3"
        },
        "language_info": {
            "codemirror_mode": {
                "name": "ipython",
                "version": 3
            },
            "file_extension": ".py",
            "mimetype": "text/x-python",
            "name": "python",
            "nbconvert_exporter": "python",
            "pygments_lexer": "ipython3",
            "version": "3.7.10"
        }
    },
    "nbformat": 4,
    "nbformat_minor": 1
}